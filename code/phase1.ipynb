{
  "cells": [
    {
      "cell_type": "markdown",
      "metadata": {},
      "source": [
        "# DIC Phase 1\n",
        "## Prof. Eric Mikida\n",
        "### Yashika Nihalani, 50425015\n",
        "### Ashutosh Shailesh Bhawsar, 50416025"
      ]
    },
    {
      "cell_type": "code",
      "execution_count": 1,
      "metadata": {
        "id": "3VpMu4objUIp"
      },
      "outputs": [],
      "source": [
        "import pandas as pd\n",
        "\n",
        "import time\n",
        "\n",
        "import matplotlib\n",
        "import matplotlib.pyplot as plt\n",
        "\n",
        "from datetime import datetime\n",
        "\n",
        "import numpy as np\n",
        "from sklearn.model_selection import train_test_split"
      ]
    },
    {
      "cell_type": "markdown",
      "metadata": {},
      "source": [
        "# **DATA CLEANING AND PREPROCESSING**"
      ]
    },
    {
      "cell_type": "code",
      "execution_count": 2,
      "metadata": {
        "colab": {
          "base_uri": "https://localhost:8080/"
        },
        "id": "o9tvK3PEjUIv",
        "outputId": "b5ac18ee-3dad-445b-d8f2-0401b040d282"
      },
      "outputs": [
        {
          "name": "stdout",
          "output_type": "stream",
          "text": [
            "          Timestamp      Open      High       Low     Close  Volume_(BTC)  \\\n",
            "0        1325317920      4.39      4.39      4.39      4.39      0.455581   \n",
            "1        1325317980       NaN       NaN       NaN       NaN           NaN   \n",
            "2        1325318040       NaN       NaN       NaN       NaN           NaN   \n",
            "3        1325318100       NaN       NaN       NaN       NaN           NaN   \n",
            "4        1325318160       NaN       NaN       NaN       NaN           NaN   \n",
            "...             ...       ...       ...       ...       ...           ...   \n",
            "4857372  1617148560  58714.31  58714.31  58686.00  58686.00      1.384487   \n",
            "4857373  1617148620  58683.97  58693.43  58683.97  58685.81      7.294848   \n",
            "4857374  1617148680  58693.43  58723.84  58693.43  58723.84      1.705682   \n",
            "4857375  1617148740  58742.18  58770.38  58742.18  58760.59      0.720415   \n",
            "4857376  1617148800  58767.75  58778.18  58755.97  58778.18      2.712831   \n",
            "\n",
            "         Volume_(Currency)  Weighted_Price  \n",
            "0                 2.000000        4.390000  \n",
            "1                      NaN             NaN  \n",
            "2                      NaN             NaN  \n",
            "3                      NaN             NaN  \n",
            "4                      NaN             NaN  \n",
            "...                    ...             ...  \n",
            "4857372       81259.372187    58692.753339  \n",
            "4857373      428158.146640    58693.226508  \n",
            "4857374      100117.070370    58696.198496  \n",
            "4857375       42332.958633    58761.866202  \n",
            "4857376      159417.751000    58764.349363  \n",
            "\n",
            "[4857377 rows x 8 columns]\n"
          ]
        }
      ],
      "source": [
        "btc_min_data = pd.read_csv('/Users/ashutoshbhawsar/Documents/Fall 2022 Courses/DIC/DIC project/bitstampUSD_1-min_data_2012-01-01_to_2021-03-31.csv') \n",
        "\n",
        "print(btc_min_data)"
      ]
    },
    {
      "cell_type": "code",
      "execution_count": 3,
      "metadata": {
        "colab": {
          "base_uri": "https://localhost:8080/"
        },
        "id": "NGiNP7P8jUIv",
        "outputId": "e2490911-b7d5-4e7b-a947-80cc51cb928d"
      },
      "outputs": [
        {
          "name": "stdout",
          "output_type": "stream",
          "text": [
            "Index(['Timestamp', 'Open', 'High', 'Low', 'Close', 'Volume_(BTC)',\n",
            "       'Volume_(Currency)', 'Weighted_Price'],\n",
            "      dtype='object')\n"
          ]
        }
      ],
      "source": [
        "\n",
        "print(btc_min_data.columns)"
      ]
    },
    {
      "cell_type": "markdown",
      "metadata": {
        "id": "Tg8qkL5wkR18"
      },
      "source": [
        "**1) Conversion of Unix time to Datetime - Timestamp column** - \n",
        "The timestamp column is provided in unix time which means number of seconds that have elapsed since January 1, 1970. We have converted this column in datetime format which is more readable and helps in visualising the data according to date and corresponding time in minutes."
      ]
    },
    {
      "cell_type": "code",
      "execution_count": 4,
      "metadata": {
        "id": "PlJrre4GjUIw"
      },
      "outputs": [],
      "source": [
        "# 1) Conversion of Unix time to Datetime - Timestamp column\n",
        "btc_min_data['Timestamp']=pd.to_datetime(btc_min_data['Timestamp'],unit='s')"
      ]
    },
    {
      "cell_type": "code",
      "execution_count": 5,
      "metadata": {
        "id": "6cnldJxzjUIw"
      },
      "outputs": [],
      "source": [
        "btc_min_data=btc_min_data.rename(columns={'Volume_(BTC)':\"Volume_BTC\", 'Volume_(Currency)':\"Volume_Currency\"})"
      ]
    },
    {
      "cell_type": "markdown",
      "metadata": {
        "id": "iljyeyxTklY5"
      },
      "source": [
        "**2) Dropping all NAN or null values** - Few columns contained NAN values which are of no significant use for analysis. Hence the rows with such values are deleted. The pandas function dropna is used which determines the NAN values and drops them from the dataset."
      ]
    },
    {
      "cell_type": "code",
      "execution_count": 6,
      "metadata": {
        "id": "ELntAu5xjUIw"
      },
      "outputs": [],
      "source": [
        "# 2) Dropping all NAN or null values\n",
        "btc_min_data=btc_min_data.dropna()"
      ]
    },
    {
      "cell_type": "code",
      "execution_count": 7,
      "metadata": {
        "colab": {
          "base_uri": "https://localhost:8080/",
          "height": 424
        },
        "id": "8DqKW9MyjUIw",
        "outputId": "ffe107cc-b4d0-4e4b-ded2-ea58186fde74"
      },
      "outputs": [
        {
          "data": {
            "text/html": [
              "<div>\n",
              "<style scoped>\n",
              "    .dataframe tbody tr th:only-of-type {\n",
              "        vertical-align: middle;\n",
              "    }\n",
              "\n",
              "    .dataframe tbody tr th {\n",
              "        vertical-align: top;\n",
              "    }\n",
              "\n",
              "    .dataframe thead th {\n",
              "        text-align: right;\n",
              "    }\n",
              "</style>\n",
              "<table border=\"1\" class=\"dataframe\">\n",
              "  <thead>\n",
              "    <tr style=\"text-align: right;\">\n",
              "      <th></th>\n",
              "      <th>Timestamp</th>\n",
              "      <th>Open</th>\n",
              "      <th>High</th>\n",
              "      <th>Low</th>\n",
              "      <th>Close</th>\n",
              "      <th>Volume_BTC</th>\n",
              "      <th>Volume_Currency</th>\n",
              "      <th>Weighted_Price</th>\n",
              "    </tr>\n",
              "  </thead>\n",
              "  <tbody>\n",
              "    <tr>\n",
              "      <th>0</th>\n",
              "      <td>2011-12-31 07:52:00</td>\n",
              "      <td>4.39</td>\n",
              "      <td>4.39</td>\n",
              "      <td>4.39</td>\n",
              "      <td>4.39</td>\n",
              "      <td>0.455581</td>\n",
              "      <td>2.000000</td>\n",
              "      <td>4.390000</td>\n",
              "    </tr>\n",
              "    <tr>\n",
              "      <th>478</th>\n",
              "      <td>2011-12-31 15:50:00</td>\n",
              "      <td>4.39</td>\n",
              "      <td>4.39</td>\n",
              "      <td>4.39</td>\n",
              "      <td>4.39</td>\n",
              "      <td>48.000000</td>\n",
              "      <td>210.720000</td>\n",
              "      <td>4.390000</td>\n",
              "    </tr>\n",
              "    <tr>\n",
              "      <th>547</th>\n",
              "      <td>2011-12-31 16:59:00</td>\n",
              "      <td>4.50</td>\n",
              "      <td>4.57</td>\n",
              "      <td>4.50</td>\n",
              "      <td>4.57</td>\n",
              "      <td>37.862297</td>\n",
              "      <td>171.380338</td>\n",
              "      <td>4.526411</td>\n",
              "    </tr>\n",
              "    <tr>\n",
              "      <th>548</th>\n",
              "      <td>2011-12-31 17:00:00</td>\n",
              "      <td>4.58</td>\n",
              "      <td>4.58</td>\n",
              "      <td>4.58</td>\n",
              "      <td>4.58</td>\n",
              "      <td>9.000000</td>\n",
              "      <td>41.220000</td>\n",
              "      <td>4.580000</td>\n",
              "    </tr>\n",
              "    <tr>\n",
              "      <th>1224</th>\n",
              "      <td>2012-01-01 04:16:00</td>\n",
              "      <td>4.58</td>\n",
              "      <td>4.58</td>\n",
              "      <td>4.58</td>\n",
              "      <td>4.58</td>\n",
              "      <td>1.502000</td>\n",
              "      <td>6.879160</td>\n",
              "      <td>4.580000</td>\n",
              "    </tr>\n",
              "    <tr>\n",
              "      <th>...</th>\n",
              "      <td>...</td>\n",
              "      <td>...</td>\n",
              "      <td>...</td>\n",
              "      <td>...</td>\n",
              "      <td>...</td>\n",
              "      <td>...</td>\n",
              "      <td>...</td>\n",
              "      <td>...</td>\n",
              "    </tr>\n",
              "    <tr>\n",
              "      <th>4857372</th>\n",
              "      <td>2021-03-30 23:56:00</td>\n",
              "      <td>58714.31</td>\n",
              "      <td>58714.31</td>\n",
              "      <td>58686.00</td>\n",
              "      <td>58686.00</td>\n",
              "      <td>1.384487</td>\n",
              "      <td>81259.372187</td>\n",
              "      <td>58692.753339</td>\n",
              "    </tr>\n",
              "    <tr>\n",
              "      <th>4857373</th>\n",
              "      <td>2021-03-30 23:57:00</td>\n",
              "      <td>58683.97</td>\n",
              "      <td>58693.43</td>\n",
              "      <td>58683.97</td>\n",
              "      <td>58685.81</td>\n",
              "      <td>7.294848</td>\n",
              "      <td>428158.146640</td>\n",
              "      <td>58693.226508</td>\n",
              "    </tr>\n",
              "    <tr>\n",
              "      <th>4857374</th>\n",
              "      <td>2021-03-30 23:58:00</td>\n",
              "      <td>58693.43</td>\n",
              "      <td>58723.84</td>\n",
              "      <td>58693.43</td>\n",
              "      <td>58723.84</td>\n",
              "      <td>1.705682</td>\n",
              "      <td>100117.070370</td>\n",
              "      <td>58696.198496</td>\n",
              "    </tr>\n",
              "    <tr>\n",
              "      <th>4857375</th>\n",
              "      <td>2021-03-30 23:59:00</td>\n",
              "      <td>58742.18</td>\n",
              "      <td>58770.38</td>\n",
              "      <td>58742.18</td>\n",
              "      <td>58760.59</td>\n",
              "      <td>0.720415</td>\n",
              "      <td>42332.958633</td>\n",
              "      <td>58761.866202</td>\n",
              "    </tr>\n",
              "    <tr>\n",
              "      <th>4857376</th>\n",
              "      <td>2021-03-31 00:00:00</td>\n",
              "      <td>58767.75</td>\n",
              "      <td>58778.18</td>\n",
              "      <td>58755.97</td>\n",
              "      <td>58778.18</td>\n",
              "      <td>2.712831</td>\n",
              "      <td>159417.751000</td>\n",
              "      <td>58764.349363</td>\n",
              "    </tr>\n",
              "  </tbody>\n",
              "</table>\n",
              "<p>3613769 rows × 8 columns</p>\n",
              "</div>"
            ],
            "text/plain": [
              "                  Timestamp      Open      High       Low     Close  \\\n",
              "0       2011-12-31 07:52:00      4.39      4.39      4.39      4.39   \n",
              "478     2011-12-31 15:50:00      4.39      4.39      4.39      4.39   \n",
              "547     2011-12-31 16:59:00      4.50      4.57      4.50      4.57   \n",
              "548     2011-12-31 17:00:00      4.58      4.58      4.58      4.58   \n",
              "1224    2012-01-01 04:16:00      4.58      4.58      4.58      4.58   \n",
              "...                     ...       ...       ...       ...       ...   \n",
              "4857372 2021-03-30 23:56:00  58714.31  58714.31  58686.00  58686.00   \n",
              "4857373 2021-03-30 23:57:00  58683.97  58693.43  58683.97  58685.81   \n",
              "4857374 2021-03-30 23:58:00  58693.43  58723.84  58693.43  58723.84   \n",
              "4857375 2021-03-30 23:59:00  58742.18  58770.38  58742.18  58760.59   \n",
              "4857376 2021-03-31 00:00:00  58767.75  58778.18  58755.97  58778.18   \n",
              "\n",
              "         Volume_BTC  Volume_Currency  Weighted_Price  \n",
              "0          0.455581         2.000000        4.390000  \n",
              "478       48.000000       210.720000        4.390000  \n",
              "547       37.862297       171.380338        4.526411  \n",
              "548        9.000000        41.220000        4.580000  \n",
              "1224       1.502000         6.879160        4.580000  \n",
              "...             ...              ...             ...  \n",
              "4857372    1.384487     81259.372187    58692.753339  \n",
              "4857373    7.294848    428158.146640    58693.226508  \n",
              "4857374    1.705682    100117.070370    58696.198496  \n",
              "4857375    0.720415     42332.958633    58761.866202  \n",
              "4857376    2.712831    159417.751000    58764.349363  \n",
              "\n",
              "[3613769 rows x 8 columns]"
            ]
          },
          "execution_count": 7,
          "metadata": {},
          "output_type": "execute_result"
        }
      ],
      "source": [
        "btc_min_data"
      ]
    },
    {
      "cell_type": "code",
      "execution_count": 8,
      "metadata": {
        "id": "w3zPLUtyjUIx"
      },
      "outputs": [],
      "source": [
        "# Create new dataframe for final data\n",
        "bitcoin_daily_data = pd.DataFrame({})\n",
        "temp_group_data = btc_min_data.groupby([pd.Grouper(key=\"Timestamp\", freq=\"D\")])"
      ]
    },
    {
      "cell_type": "markdown",
      "metadata": {
        "id": "gb9cJ79olVDI"
      },
      "source": [
        "**3) Grouping open column -** The data is for every minute, we have grouped it according to day by providing the parameter frequency= “D”. Thus all the data of a particular date are grouped together. The first available data in the dataset for that particular day is considered for the open column."
      ]
    },
    {
      "cell_type": "code",
      "execution_count": 9,
      "metadata": {
        "id": "jp8aNBQhjUIx"
      },
      "outputs": [],
      "source": [
        "# 3) Grouping open column\n",
        "bitcoin_daily_data[\"Open\"] = pd.DataFrame(temp_group_data.Open.first())[\"Open\"]\n"
      ]
    },
    {
      "cell_type": "markdown",
      "metadata": {
        "id": "hm5hSY04lduC"
      },
      "source": [
        "**4) Grouping Close column -** The last available data in the dataset for that particular day is considered for the close column."
      ]
    },
    {
      "cell_type": "code",
      "execution_count": 10,
      "metadata": {
        "id": "TO81Lp8MjUIx"
      },
      "outputs": [],
      "source": [
        "# 4) Grouping Close column\n",
        "bitcoin_daily_data[\"Close\"] = pd.DataFrame(temp_group_data.Close.last())[\"Close\"]\n"
      ]
    },
    {
      "cell_type": "markdown",
      "metadata": {
        "id": "r66Lbce3mX1A"
      },
      "source": [
        "**5) Grouping High column -** The data for the same day are grouped together and the max value for the high column that is the highest of the day is taken."
      ]
    },
    {
      "cell_type": "code",
      "execution_count": 11,
      "metadata": {
        "id": "J_UlpN6YjUIx"
      },
      "outputs": [],
      "source": [
        "# 5) Grouping High column\n",
        "bitcoin_daily_data[\"High\"] = pd.DataFrame(temp_group_data.High.max())[\"High\"]\n"
      ]
    },
    {
      "cell_type": "markdown",
      "metadata": {
        "id": "ee2OuKBBlpiT"
      },
      "source": [
        "**6) Grouping Low column -** The minimum value available in the dataset for each day is taken for the low column."
      ]
    },
    {
      "cell_type": "code",
      "execution_count": 12,
      "metadata": {
        "id": "KiE4ITgajUIx"
      },
      "outputs": [],
      "source": [
        "# 6) Grouping Low column\n",
        "bitcoin_daily_data[\"Low\"] = pd.DataFrame(temp_group_data.Low.min())[\"Low\"]\n"
      ]
    },
    {
      "cell_type": "markdown",
      "metadata": {
        "id": "YLMHRkQLE0-q"
      },
      "source": [
        "**7)Grouping Volume_BTC, Volume_Currency, and Weighted_price-** The mean data for volume_BTC, volume currency, and weighted price for each day are taken in respective columns."
      ]
    },
    {
      "cell_type": "code",
      "execution_count": 13,
      "metadata": {
        "id": "3g-H0VgWjUIx"
      },
      "outputs": [],
      "source": [
        "# 7) Get mean value for Volume_BTC, Volume_Currency, Weighted_Price from datewise group\n",
        "bitcoin_daily_data[\"Volume_BTC\"] = pd.DataFrame(temp_group_data.Volume_BTC.mean())['Volume_BTC']\n",
        "bitcoin_daily_data[\"Volume_Currency\"] = pd.DataFrame(temp_group_data.Volume_Currency.mean())[\"Volume_Currency\"]\n",
        "bitcoin_daily_data[\"Weighted_Price\"] = pd.DataFrame(temp_group_data.Weighted_Price.mean())[\"Weighted_Price\"]\n"
      ]
    },
    {
      "cell_type": "code",
      "execution_count": 14,
      "metadata": {
        "colab": {
          "base_uri": "https://localhost:8080/",
          "height": 455
        },
        "id": "i6flmwwSjUIy",
        "outputId": "c3b7e5d6-af17-4862-90fe-cbabc5f1db2e"
      },
      "outputs": [
        {
          "data": {
            "text/html": [
              "<div>\n",
              "<style scoped>\n",
              "    .dataframe tbody tr th:only-of-type {\n",
              "        vertical-align: middle;\n",
              "    }\n",
              "\n",
              "    .dataframe tbody tr th {\n",
              "        vertical-align: top;\n",
              "    }\n",
              "\n",
              "    .dataframe thead th {\n",
              "        text-align: right;\n",
              "    }\n",
              "</style>\n",
              "<table border=\"1\" class=\"dataframe\">\n",
              "  <thead>\n",
              "    <tr style=\"text-align: right;\">\n",
              "      <th></th>\n",
              "      <th>Open</th>\n",
              "      <th>Close</th>\n",
              "      <th>High</th>\n",
              "      <th>Low</th>\n",
              "      <th>Volume_BTC</th>\n",
              "      <th>Volume_Currency</th>\n",
              "      <th>Weighted_Price</th>\n",
              "    </tr>\n",
              "    <tr>\n",
              "      <th>Timestamp</th>\n",
              "      <th></th>\n",
              "      <th></th>\n",
              "      <th></th>\n",
              "      <th></th>\n",
              "      <th></th>\n",
              "      <th></th>\n",
              "      <th></th>\n",
              "    </tr>\n",
              "  </thead>\n",
              "  <tbody>\n",
              "    <tr>\n",
              "      <th>2011-12-31</th>\n",
              "      <td>4.39</td>\n",
              "      <td>4.58</td>\n",
              "      <td>4.58</td>\n",
              "      <td>4.39</td>\n",
              "      <td>23.829470</td>\n",
              "      <td>106.330084</td>\n",
              "      <td>4.471603</td>\n",
              "    </tr>\n",
              "    <tr>\n",
              "      <th>2012-01-01</th>\n",
              "      <td>4.58</td>\n",
              "      <td>5.00</td>\n",
              "      <td>5.00</td>\n",
              "      <td>4.58</td>\n",
              "      <td>7.200667</td>\n",
              "      <td>35.259720</td>\n",
              "      <td>4.806667</td>\n",
              "    </tr>\n",
              "    <tr>\n",
              "      <th>2012-01-02</th>\n",
              "      <td>5.00</td>\n",
              "      <td>5.00</td>\n",
              "      <td>5.00</td>\n",
              "      <td>5.00</td>\n",
              "      <td>19.048000</td>\n",
              "      <td>95.240000</td>\n",
              "      <td>5.000000</td>\n",
              "    </tr>\n",
              "    <tr>\n",
              "      <th>2012-01-03</th>\n",
              "      <td>5.32</td>\n",
              "      <td>5.29</td>\n",
              "      <td>5.32</td>\n",
              "      <td>5.14</td>\n",
              "      <td>11.004660</td>\n",
              "      <td>58.100651</td>\n",
              "      <td>5.252500</td>\n",
              "    </tr>\n",
              "    <tr>\n",
              "      <th>2012-01-04</th>\n",
              "      <td>4.93</td>\n",
              "      <td>5.57</td>\n",
              "      <td>5.57</td>\n",
              "      <td>4.93</td>\n",
              "      <td>11.914807</td>\n",
              "      <td>63.119577</td>\n",
              "      <td>5.208159</td>\n",
              "    </tr>\n",
              "    <tr>\n",
              "      <th>...</th>\n",
              "      <td>...</td>\n",
              "      <td>...</td>\n",
              "      <td>...</td>\n",
              "      <td>...</td>\n",
              "      <td>...</td>\n",
              "      <td>...</td>\n",
              "      <td>...</td>\n",
              "    </tr>\n",
              "    <tr>\n",
              "      <th>2021-03-27</th>\n",
              "      <td>55081.26</td>\n",
              "      <td>55839.42</td>\n",
              "      <td>56686.15</td>\n",
              "      <td>53948.35</td>\n",
              "      <td>1.823877</td>\n",
              "      <td>100884.732367</td>\n",
              "      <td>55193.357260</td>\n",
              "    </tr>\n",
              "    <tr>\n",
              "      <th>2021-03-28</th>\n",
              "      <td>55817.85</td>\n",
              "      <td>55790.92</td>\n",
              "      <td>56573.04</td>\n",
              "      <td>54677.51</td>\n",
              "      <td>1.447939</td>\n",
              "      <td>80632.115263</td>\n",
              "      <td>55832.958824</td>\n",
              "    </tr>\n",
              "    <tr>\n",
              "      <th>2021-03-29</th>\n",
              "      <td>55790.28</td>\n",
              "      <td>57600.10</td>\n",
              "      <td>58402.68</td>\n",
              "      <td>54892.42</td>\n",
              "      <td>3.732887</td>\n",
              "      <td>213754.555988</td>\n",
              "      <td>56913.993819</td>\n",
              "    </tr>\n",
              "    <tr>\n",
              "      <th>2021-03-30</th>\n",
              "      <td>57623.66</td>\n",
              "      <td>58760.59</td>\n",
              "      <td>59388.66</td>\n",
              "      <td>57011.00</td>\n",
              "      <td>2.363999</td>\n",
              "      <td>138231.241926</td>\n",
              "      <td>58346.912268</td>\n",
              "    </tr>\n",
              "    <tr>\n",
              "      <th>2021-03-31</th>\n",
              "      <td>58767.75</td>\n",
              "      <td>58778.18</td>\n",
              "      <td>58778.18</td>\n",
              "      <td>58755.97</td>\n",
              "      <td>2.712831</td>\n",
              "      <td>159417.751000</td>\n",
              "      <td>58764.349363</td>\n",
              "    </tr>\n",
              "  </tbody>\n",
              "</table>\n",
              "<p>3379 rows × 7 columns</p>\n",
              "</div>"
            ],
            "text/plain": [
              "                Open     Close      High       Low  Volume_BTC  \\\n",
              "Timestamp                                                        \n",
              "2011-12-31      4.39      4.58      4.58      4.39   23.829470   \n",
              "2012-01-01      4.58      5.00      5.00      4.58    7.200667   \n",
              "2012-01-02      5.00      5.00      5.00      5.00   19.048000   \n",
              "2012-01-03      5.32      5.29      5.32      5.14   11.004660   \n",
              "2012-01-04      4.93      5.57      5.57      4.93   11.914807   \n",
              "...              ...       ...       ...       ...         ...   \n",
              "2021-03-27  55081.26  55839.42  56686.15  53948.35    1.823877   \n",
              "2021-03-28  55817.85  55790.92  56573.04  54677.51    1.447939   \n",
              "2021-03-29  55790.28  57600.10  58402.68  54892.42    3.732887   \n",
              "2021-03-30  57623.66  58760.59  59388.66  57011.00    2.363999   \n",
              "2021-03-31  58767.75  58778.18  58778.18  58755.97    2.712831   \n",
              "\n",
              "            Volume_Currency  Weighted_Price  \n",
              "Timestamp                                    \n",
              "2011-12-31       106.330084        4.471603  \n",
              "2012-01-01        35.259720        4.806667  \n",
              "2012-01-02        95.240000        5.000000  \n",
              "2012-01-03        58.100651        5.252500  \n",
              "2012-01-04        63.119577        5.208159  \n",
              "...                     ...             ...  \n",
              "2021-03-27    100884.732367    55193.357260  \n",
              "2021-03-28     80632.115263    55832.958824  \n",
              "2021-03-29    213754.555988    56913.993819  \n",
              "2021-03-30    138231.241926    58346.912268  \n",
              "2021-03-31    159417.751000    58764.349363  \n",
              "\n",
              "[3379 rows x 7 columns]"
            ]
          },
          "execution_count": 14,
          "metadata": {},
          "output_type": "execute_result"
        }
      ],
      "source": [
        "bitcoin_daily_data"
      ]
    },
    {
      "cell_type": "markdown",
      "metadata": {
        "id": "4Jh2h4WoFNoR"
      },
      "source": [
        "**8)Compute and add a column for the change percentage daily-**\n",
        "We computed the change percentage for each day by comparing the closing price of the current day with the closing price of the previous day. This column will contribute to analyzing the change and dividing the day into a particular category."
      ]
    },
    {
      "cell_type": "code",
      "execution_count": 15,
      "metadata": {
        "id": "lR2E6ts3jUIy"
      },
      "outputs": [],
      "source": [
        "# 8) Compute and add a column for the change percentage daily\n",
        "bitcoin_daily_data[\"Change_percentage\"]=bitcoin_daily_data[\"Close\"].pct_change()*100"
      ]
    },
    {
      "cell_type": "code",
      "execution_count": 16,
      "metadata": {
        "colab": {
          "base_uri": "https://localhost:8080/",
          "height": 455
        },
        "id": "KbqRXYvujUIy",
        "outputId": "4c244bc4-53b7-4ca3-a47f-717286a18881"
      },
      "outputs": [
        {
          "data": {
            "text/html": [
              "<div>\n",
              "<style scoped>\n",
              "    .dataframe tbody tr th:only-of-type {\n",
              "        vertical-align: middle;\n",
              "    }\n",
              "\n",
              "    .dataframe tbody tr th {\n",
              "        vertical-align: top;\n",
              "    }\n",
              "\n",
              "    .dataframe thead th {\n",
              "        text-align: right;\n",
              "    }\n",
              "</style>\n",
              "<table border=\"1\" class=\"dataframe\">\n",
              "  <thead>\n",
              "    <tr style=\"text-align: right;\">\n",
              "      <th></th>\n",
              "      <th>Open</th>\n",
              "      <th>Close</th>\n",
              "      <th>High</th>\n",
              "      <th>Low</th>\n",
              "      <th>Volume_BTC</th>\n",
              "      <th>Volume_Currency</th>\n",
              "      <th>Weighted_Price</th>\n",
              "      <th>Change_percentage</th>\n",
              "    </tr>\n",
              "    <tr>\n",
              "      <th>Timestamp</th>\n",
              "      <th></th>\n",
              "      <th></th>\n",
              "      <th></th>\n",
              "      <th></th>\n",
              "      <th></th>\n",
              "      <th></th>\n",
              "      <th></th>\n",
              "      <th></th>\n",
              "    </tr>\n",
              "  </thead>\n",
              "  <tbody>\n",
              "    <tr>\n",
              "      <th>2011-12-31</th>\n",
              "      <td>4.39</td>\n",
              "      <td>4.58</td>\n",
              "      <td>4.58</td>\n",
              "      <td>4.39</td>\n",
              "      <td>23.829470</td>\n",
              "      <td>106.330084</td>\n",
              "      <td>4.471603</td>\n",
              "      <td>NaN</td>\n",
              "    </tr>\n",
              "    <tr>\n",
              "      <th>2012-01-01</th>\n",
              "      <td>4.58</td>\n",
              "      <td>5.00</td>\n",
              "      <td>5.00</td>\n",
              "      <td>4.58</td>\n",
              "      <td>7.200667</td>\n",
              "      <td>35.259720</td>\n",
              "      <td>4.806667</td>\n",
              "      <td>9.170306</td>\n",
              "    </tr>\n",
              "    <tr>\n",
              "      <th>2012-01-02</th>\n",
              "      <td>5.00</td>\n",
              "      <td>5.00</td>\n",
              "      <td>5.00</td>\n",
              "      <td>5.00</td>\n",
              "      <td>19.048000</td>\n",
              "      <td>95.240000</td>\n",
              "      <td>5.000000</td>\n",
              "      <td>0.000000</td>\n",
              "    </tr>\n",
              "    <tr>\n",
              "      <th>2012-01-03</th>\n",
              "      <td>5.32</td>\n",
              "      <td>5.29</td>\n",
              "      <td>5.32</td>\n",
              "      <td>5.14</td>\n",
              "      <td>11.004660</td>\n",
              "      <td>58.100651</td>\n",
              "      <td>5.252500</td>\n",
              "      <td>5.800000</td>\n",
              "    </tr>\n",
              "    <tr>\n",
              "      <th>2012-01-04</th>\n",
              "      <td>4.93</td>\n",
              "      <td>5.57</td>\n",
              "      <td>5.57</td>\n",
              "      <td>4.93</td>\n",
              "      <td>11.914807</td>\n",
              "      <td>63.119577</td>\n",
              "      <td>5.208159</td>\n",
              "      <td>5.293006</td>\n",
              "    </tr>\n",
              "    <tr>\n",
              "      <th>...</th>\n",
              "      <td>...</td>\n",
              "      <td>...</td>\n",
              "      <td>...</td>\n",
              "      <td>...</td>\n",
              "      <td>...</td>\n",
              "      <td>...</td>\n",
              "      <td>...</td>\n",
              "      <td>...</td>\n",
              "    </tr>\n",
              "    <tr>\n",
              "      <th>2021-03-27</th>\n",
              "      <td>55081.26</td>\n",
              "      <td>55839.42</td>\n",
              "      <td>56686.15</td>\n",
              "      <td>53948.35</td>\n",
              "      <td>1.823877</td>\n",
              "      <td>100884.732367</td>\n",
              "      <td>55193.357260</td>\n",
              "      <td>1.376237</td>\n",
              "    </tr>\n",
              "    <tr>\n",
              "      <th>2021-03-28</th>\n",
              "      <td>55817.85</td>\n",
              "      <td>55790.92</td>\n",
              "      <td>56573.04</td>\n",
              "      <td>54677.51</td>\n",
              "      <td>1.447939</td>\n",
              "      <td>80632.115263</td>\n",
              "      <td>55832.958824</td>\n",
              "      <td>-0.086856</td>\n",
              "    </tr>\n",
              "    <tr>\n",
              "      <th>2021-03-29</th>\n",
              "      <td>55790.28</td>\n",
              "      <td>57600.10</td>\n",
              "      <td>58402.68</td>\n",
              "      <td>54892.42</td>\n",
              "      <td>3.732887</td>\n",
              "      <td>213754.555988</td>\n",
              "      <td>56913.993819</td>\n",
              "      <td>3.242786</td>\n",
              "    </tr>\n",
              "    <tr>\n",
              "      <th>2021-03-30</th>\n",
              "      <td>57623.66</td>\n",
              "      <td>58760.59</td>\n",
              "      <td>59388.66</td>\n",
              "      <td>57011.00</td>\n",
              "      <td>2.363999</td>\n",
              "      <td>138231.241926</td>\n",
              "      <td>58346.912268</td>\n",
              "      <td>2.014736</td>\n",
              "    </tr>\n",
              "    <tr>\n",
              "      <th>2021-03-31</th>\n",
              "      <td>58767.75</td>\n",
              "      <td>58778.18</td>\n",
              "      <td>58778.18</td>\n",
              "      <td>58755.97</td>\n",
              "      <td>2.712831</td>\n",
              "      <td>159417.751000</td>\n",
              "      <td>58764.349363</td>\n",
              "      <td>0.029935</td>\n",
              "    </tr>\n",
              "  </tbody>\n",
              "</table>\n",
              "<p>3379 rows × 8 columns</p>\n",
              "</div>"
            ],
            "text/plain": [
              "                Open     Close      High       Low  Volume_BTC  \\\n",
              "Timestamp                                                        \n",
              "2011-12-31      4.39      4.58      4.58      4.39   23.829470   \n",
              "2012-01-01      4.58      5.00      5.00      4.58    7.200667   \n",
              "2012-01-02      5.00      5.00      5.00      5.00   19.048000   \n",
              "2012-01-03      5.32      5.29      5.32      5.14   11.004660   \n",
              "2012-01-04      4.93      5.57      5.57      4.93   11.914807   \n",
              "...              ...       ...       ...       ...         ...   \n",
              "2021-03-27  55081.26  55839.42  56686.15  53948.35    1.823877   \n",
              "2021-03-28  55817.85  55790.92  56573.04  54677.51    1.447939   \n",
              "2021-03-29  55790.28  57600.10  58402.68  54892.42    3.732887   \n",
              "2021-03-30  57623.66  58760.59  59388.66  57011.00    2.363999   \n",
              "2021-03-31  58767.75  58778.18  58778.18  58755.97    2.712831   \n",
              "\n",
              "            Volume_Currency  Weighted_Price  Change_percentage  \n",
              "Timestamp                                                       \n",
              "2011-12-31       106.330084        4.471603                NaN  \n",
              "2012-01-01        35.259720        4.806667           9.170306  \n",
              "2012-01-02        95.240000        5.000000           0.000000  \n",
              "2012-01-03        58.100651        5.252500           5.800000  \n",
              "2012-01-04        63.119577        5.208159           5.293006  \n",
              "...                     ...             ...                ...  \n",
              "2021-03-27    100884.732367    55193.357260           1.376237  \n",
              "2021-03-28     80632.115263    55832.958824          -0.086856  \n",
              "2021-03-29    213754.555988    56913.993819           3.242786  \n",
              "2021-03-30    138231.241926    58346.912268           2.014736  \n",
              "2021-03-31    159417.751000    58764.349363           0.029935  \n",
              "\n",
              "[3379 rows x 8 columns]"
            ]
          },
          "execution_count": 16,
          "metadata": {},
          "output_type": "execute_result"
        }
      ],
      "source": [
        "bitcoin_daily_data"
      ]
    },
    {
      "cell_type": "markdown",
      "metadata": {},
      "source": [
        "**9)Round all integer data in DataFrame to 2 decimal places-**\n",
        "Having a scale of 6 digits is unnecessary for us since those are the least significant. Hence we round up all integers in our dataset to the scale of 2. "
      ]
    },
    {
      "cell_type": "code",
      "execution_count": 17,
      "metadata": {},
      "outputs": [],
      "source": [
        "bitcoin_daily_data = bitcoin_daily_data.round(2)"
      ]
    },
    {
      "cell_type": "code",
      "execution_count": 18,
      "metadata": {},
      "outputs": [],
      "source": [
        "# 9) Save DataFrame to csv file for space efficiency and convenience\n",
        "bitcoin_daily_data.to_csv('../data/bitcoin_daily_data_cleaned.csv')\n"
      ]
    },
    {
      "cell_type": "markdown",
      "metadata": {
        "id": "TItNlg9KFZpz"
      },
      "source": [
        "**10)Convert data frame to NumPy-**\n",
        "Now that the data is cleaned, to make it ready for preprocessing and apply machine learning models, we convert the DataFrame from pandas to NumPy. "
      ]
    },
    {
      "cell_type": "code",
      "execution_count": 19,
      "metadata": {
        "colab": {
          "base_uri": "https://localhost:8080/"
        },
        "id": "7GwYHe2BjUIy",
        "outputId": "81257cfd-8031-438d-ff28-43690c2a8ec3"
      },
      "outputs": [
        {
          "name": "stdout",
          "output_type": "stream",
          "text": [
            "x: <class 'numpy.ndarray'> (3379, 7)\n",
            "y: <class 'numpy.ndarray'> (3379,)\n"
          ]
        }
      ],
      "source": [
        "# 10) Convert the DataFrame to NumPy arrays for input/output to training model\n",
        "x = bitcoin_daily_data.values\n",
        "x = np.delete(arr=x, obj=1, axis=1) # dropping Close column from input x\n",
        "print(\"x:\",type(x),x.shape)\n",
        "\n",
        "y = bitcoin_daily_data[\"Close\"].values\n",
        "print(\"y:\",type(y),y.shape)"
      ]
    },
    {
      "cell_type": "markdown",
      "metadata": {
        "id": "hSmYRErmFfvp"
      },
      "source": [
        "**11)Divide the data columns into test and train data-**\n",
        "The entire data is divided into train data and test data. After processing the model with train data, our model will be tested using the test data and hence make predictions.\n"
      ]
    },
    {
      "cell_type": "code",
      "execution_count": 20,
      "metadata": {
        "id": "TAG2__OojUIz"
      },
      "outputs": [],
      "source": [
        "# 11) Split data into training and testing\n",
        "x_train, x_test, y_train, y_test = train_test_split(x, y, test_size=0.25)"
      ]
    },
    {
      "cell_type": "markdown",
      "metadata": {},
      "source": [
        "# **EXPLORATORY DATA ANALYSIS (EDA)**"
      ]
    },
    {
      "cell_type": "markdown",
      "metadata": {},
      "source": [
        "**1) Describe data to get mathematical insights.**"
      ]
    },
    {
      "cell_type": "code",
      "execution_count": 22,
      "metadata": {},
      "outputs": [
        {
          "data": {
            "text/html": [
              "<div>\n",
              "<style scoped>\n",
              "    .dataframe tbody tr th:only-of-type {\n",
              "        vertical-align: middle;\n",
              "    }\n",
              "\n",
              "    .dataframe tbody tr th {\n",
              "        vertical-align: top;\n",
              "    }\n",
              "\n",
              "    .dataframe thead th {\n",
              "        text-align: right;\n",
              "    }\n",
              "</style>\n",
              "<table border=\"1\" class=\"dataframe\">\n",
              "  <thead>\n",
              "    <tr style=\"text-align: right;\">\n",
              "      <th></th>\n",
              "      <th>Open</th>\n",
              "      <th>Close</th>\n",
              "      <th>High</th>\n",
              "      <th>Low</th>\n",
              "      <th>Volume_BTC</th>\n",
              "      <th>Volume_Currency</th>\n",
              "      <th>Weighted_Price</th>\n",
              "      <th>Change_percentage</th>\n",
              "    </tr>\n",
              "  </thead>\n",
              "  <tbody>\n",
              "    <tr>\n",
              "      <th>count</th>\n",
              "      <td>3376.000000</td>\n",
              "      <td>3376.000000</td>\n",
              "      <td>3376.000000</td>\n",
              "      <td>3376.000000</td>\n",
              "      <td>3376.000000</td>\n",
              "      <td>3376.000000</td>\n",
              "      <td>3376.000000</td>\n",
              "      <td>3378.000000</td>\n",
              "    </tr>\n",
              "    <tr>\n",
              "      <th>mean</th>\n",
              "      <td>4602.417399</td>\n",
              "      <td>4619.687260</td>\n",
              "      <td>4750.700598</td>\n",
              "      <td>4442.507965</td>\n",
              "      <td>10.355643</td>\n",
              "      <td>31790.810193</td>\n",
              "      <td>4605.576496</td>\n",
              "      <td>0.386519</td>\n",
              "    </tr>\n",
              "    <tr>\n",
              "      <th>std</th>\n",
              "      <td>8193.870228</td>\n",
              "      <td>8245.987435</td>\n",
              "      <td>8497.261901</td>\n",
              "      <td>7874.336609</td>\n",
              "      <td>8.897324</td>\n",
              "      <td>62753.976370</td>\n",
              "      <td>8207.031563</td>\n",
              "      <td>4.564684</td>\n",
              "    </tr>\n",
              "    <tr>\n",
              "      <th>min</th>\n",
              "      <td>3.800000</td>\n",
              "      <td>4.230000</td>\n",
              "      <td>4.380000</td>\n",
              "      <td>1.500000</td>\n",
              "      <td>0.250000</td>\n",
              "      <td>1.230000</td>\n",
              "      <td>4.330000</td>\n",
              "      <td>-48.520000</td>\n",
              "    </tr>\n",
              "    <tr>\n",
              "      <th>25%</th>\n",
              "      <td>244.792500</td>\n",
              "      <td>244.940000</td>\n",
              "      <td>249.777500</td>\n",
              "      <td>239.952500</td>\n",
              "      <td>4.670000</td>\n",
              "      <td>1916.185000</td>\n",
              "      <td>244.952500</td>\n",
              "      <td>-1.210000</td>\n",
              "    </tr>\n",
              "    <tr>\n",
              "      <th>50%</th>\n",
              "      <td>696.020000</td>\n",
              "      <td>697.120000</td>\n",
              "      <td>716.465000</td>\n",
              "      <td>668.265000</td>\n",
              "      <td>7.620000</td>\n",
              "      <td>6832.005000</td>\n",
              "      <td>697.945000</td>\n",
              "      <td>0.215000</td>\n",
              "    </tr>\n",
              "    <tr>\n",
              "      <th>75%</th>\n",
              "      <td>7249.760000</td>\n",
              "      <td>7257.850000</td>\n",
              "      <td>7430.267500</td>\n",
              "      <td>7058.395000</td>\n",
              "      <td>13.112500</td>\n",
              "      <td>36074.510000</td>\n",
              "      <td>7242.892500</td>\n",
              "      <td>1.970000</td>\n",
              "    </tr>\n",
              "    <tr>\n",
              "      <th>max</th>\n",
              "      <td>61177.030000</td>\n",
              "      <td>61165.190000</td>\n",
              "      <td>61781.830000</td>\n",
              "      <td>58959.570000</td>\n",
              "      <td>119.520000</td>\n",
              "      <td>950995.600000</td>\n",
              "      <td>60455.840000</td>\n",
              "      <td>40.140000</td>\n",
              "    </tr>\n",
              "  </tbody>\n",
              "</table>\n",
              "</div>"
            ],
            "text/plain": [
              "               Open         Close          High           Low   Volume_BTC  \\\n",
              "count   3376.000000   3376.000000   3376.000000   3376.000000  3376.000000   \n",
              "mean    4602.417399   4619.687260   4750.700598   4442.507965    10.355643   \n",
              "std     8193.870228   8245.987435   8497.261901   7874.336609     8.897324   \n",
              "min        3.800000      4.230000      4.380000      1.500000     0.250000   \n",
              "25%      244.792500    244.940000    249.777500    239.952500     4.670000   \n",
              "50%      696.020000    697.120000    716.465000    668.265000     7.620000   \n",
              "75%     7249.760000   7257.850000   7430.267500   7058.395000    13.112500   \n",
              "max    61177.030000  61165.190000  61781.830000  58959.570000   119.520000   \n",
              "\n",
              "       Volume_Currency  Weighted_Price  Change_percentage  \n",
              "count      3376.000000     3376.000000        3378.000000  \n",
              "mean      31790.810193     4605.576496           0.386519  \n",
              "std       62753.976370     8207.031563           4.564684  \n",
              "min           1.230000        4.330000         -48.520000  \n",
              "25%        1916.185000      244.952500          -1.210000  \n",
              "50%        6832.005000      697.945000           0.215000  \n",
              "75%       36074.510000     7242.892500           1.970000  \n",
              "max      950995.600000    60455.840000          40.140000  "
            ]
          },
          "execution_count": 22,
          "metadata": {},
          "output_type": "execute_result"
        }
      ],
      "source": [
        "bitcoin_daily_data.describe()"
      ]
    },
    {
      "cell_type": "markdown",
      "metadata": {},
      "source": [
        "**2) Get detailed information of data for coding insights.**"
      ]
    },
    {
      "cell_type": "code",
      "execution_count": 23,
      "metadata": {},
      "outputs": [
        {
          "name": "stdout",
          "output_type": "stream",
          "text": [
            "<class 'pandas.core.frame.DataFrame'>\n",
            "DatetimeIndex: 3379 entries, 2011-12-31 to 2021-03-31\n",
            "Freq: D\n",
            "Data columns (total 8 columns):\n",
            " #   Column             Non-Null Count  Dtype  \n",
            "---  ------             --------------  -----  \n",
            " 0   Open               3376 non-null   float64\n",
            " 1   Close              3376 non-null   float64\n",
            " 2   High               3376 non-null   float64\n",
            " 3   Low                3376 non-null   float64\n",
            " 4   Volume_BTC         3376 non-null   float64\n",
            " 5   Volume_Currency    3376 non-null   float64\n",
            " 6   Weighted_Price     3376 non-null   float64\n",
            " 7   Change_percentage  3378 non-null   float64\n",
            "dtypes: float64(8)\n",
            "memory usage: 237.6 KB\n"
          ]
        }
      ],
      "source": [
        "bitcoin_daily_data.info()"
      ]
    },
    {
      "cell_type": "markdown",
      "metadata": {},
      "source": [
        "**3) Cumulative returns**"
      ]
    },
    {
      "cell_type": "code",
      "execution_count": 39,
      "metadata": {},
      "outputs": [
        {
          "name": "stdout",
          "output_type": "stream",
          "text": [
            "6421.14\n",
            "Index(['BTC'], dtype='object')\n"
          ]
        },
        {
          "data": {
            "text/plain": [
              "<matplotlib.lines.Line2D at 0x7fdd01390f40>"
            ]
          },
          "execution_count": 39,
          "metadata": {},
          "output_type": "execute_result"
        },
        {
          "data": {
            "image/png": "[encoded data removed]",
            "text/plain": [
              "<Figure size 1296x720 with 1 Axes>"
            ]
          },
          "metadata": {
            "needs_background": "light"
          },
          "output_type": "display_data"
        }
      ],
      "source": [
        "cumulative_returns = pd.DataFrame({})\n",
        "\n",
        "# Indices to get 1 year data frame, getting first price for data frame\n",
        "previous_closing_price = bitcoin_daily_data['Close'][-366:-1].iloc[0]\n",
        "print(previous_closing_price)\n",
        "\n",
        "# Calculating cumulative daily returns\n",
        "cumulative_returns['BTC'] = bitcoin_daily_data['Close'][-366:-1]/previous_closing_price\n",
        "print(cumulative_returns.columns)\n",
        "\n",
        "# Plotting its graph with base line at y=1 denoting initial investment\n",
        "cumulative_returns.plot(grid = True, figsize=(18,10)).axhline(y = 1, color = \"black\", lw=2)"
      ]
    },
    {
      "cell_type": "markdown",
      "metadata": {},
      "source": [
        "**4) Daily returns**"
      ]
    },
    {
      "cell_type": "code",
      "execution_count": 42,
      "metadata": {},
      "outputs": [
        {
          "name": "stdout",
          "output_type": "stream",
          "text": [
            "4.58\n",
            "Index(['BTC'], dtype='object')\n"
          ]
        },
        {
          "data": {
            "text/plain": [
              "<matplotlib.lines.Line2D at 0x7fdd016cd280>"
            ]
          },
          "execution_count": 42,
          "metadata": {},
          "output_type": "execute_result"
        },
        {
          "data": {
            "image/png": "[encoded data removed]",
            "text/plain": [
              "<Figure size 1296x720 with 1 Axes>"
            ]
          },
          "metadata": {
            "needs_background": "light"
          },
          "output_type": "display_data"
        }
      ],
      "source": [
        "cumulative_returns = pd.DataFrame({})\n",
        "\n",
        "# Indices to get 1 year data frame, getting first price for data frame\n",
        "previous_closing_price = bitcoin_daily_data['Close'].iloc[0]\n",
        "print(previous_closing_price)\n",
        "\n",
        "# Calculating cumulative daily returns\n",
        "cumulative_returns['BTC'] = bitcoin_daily_data['Close']/previous_closing_price\n",
        "print(cumulative_returns.columns)\n",
        "\n",
        "# Using formula (daily_returns=log(current_price)/log(previous_price)) to calculate daily log returns\n",
        "daily_returns = cumulative_returns.apply(lambda x: np.log(x/x.shift(1)))\n",
        "\n",
        "# Plotting its graph with base line at y=1 denoting initial investment\n",
        "daily_returns.plot(grid = True, figsize=(18,10)).axhline(y = 0, color = \"black\", lw=2)"
      ]
    },
    {
      "cell_type": "markdown",
      "metadata": {},
      "source": [
        "**4) Drawdown**"
      ]
    },
    {
      "cell_type": "code",
      "execution_count": 46,
      "metadata": {},
      "outputs": [
        {
          "name": "stdout",
          "output_type": "stream",
          "text": [
            "BTC   -0.848579\n",
            "dtype: float64\n"
          ]
        },
        {
          "data": {
            "image/png": "[encoded data removed]",
            "text/plain": [
              "<Figure size 1296x720 with 1 Axes>"
            ]
          },
          "metadata": {
            "needs_background": "light"
          },
          "output_type": "display_data"
        }
      ],
      "source": [
        "\n",
        "# Computer drawdown each day, return the max drawdown\n",
        "# Compare each point to the previous running peak\n",
        "# O(N)\n",
        "expanding_weeks = 52\n",
        "running_max = cumulative_returns.expanding(expanding_weeks).max()\n",
        "cur_dd  = (cumulative_returns - running_max)/running_max\n",
        "\n",
        "cur_dd.plot(grid = True, figsize=(18,10)).axhline(y = 0, color = \"black\", lw= 2 )\n",
        "print(cur_dd.min())\n"
      ]
    },
    {
      "cell_type": "markdown",
      "metadata": {},
      "source": [
        "**5) Skewness**"
      ]
    },
    {
      "cell_type": "code",
      "execution_count": null,
      "metadata": {},
      "outputs": [],
      "source": []
    },
    {
      "cell_type": "markdown",
      "metadata": {},
      "source": [
        "**6) Kurtosis**"
      ]
    },
    {
      "cell_type": "code",
      "execution_count": null,
      "metadata": {},
      "outputs": [],
      "source": []
    },
    {
      "cell_type": "markdown",
      "metadata": {},
      "source": [
        "**7) Correlation analysis**"
      ]
    },
    {
      "cell_type": "code",
      "execution_count": null,
      "metadata": {},
      "outputs": [],
      "source": []
    },
    {
      "cell_type": "markdown",
      "metadata": {},
      "source": [
        "**8) Volume comparision (BTC v/s Currency)**"
      ]
    },
    {
      "cell_type": "code",
      "execution_count": null,
      "metadata": {},
      "outputs": [],
      "source": []
    },
    {
      "cell_type": "markdown",
      "metadata": {},
      "source": [
        "**9) VWAP (Volums-Weighted Average Price) analysis**"
      ]
    },
    {
      "cell_type": "code",
      "execution_count": null,
      "metadata": {},
      "outputs": [],
      "source": []
    },
    {
      "cell_type": "markdown",
      "metadata": {},
      "source": [
        "**10) SMA to detect golden and death cross**"
      ]
    },
    {
      "cell_type": "code",
      "execution_count": null,
      "metadata": {},
      "outputs": [],
      "source": []
    }
  ],
  "metadata": {
    "colab": {
      "collapsed_sections": [],
      "provenance": []
    },
    "kernelspec": {
      "display_name": "Python 3.9.12 ('base')",
      "language": "python",
      "name": "python3"
    },
    "language_info": {
      "codemirror_mode": {
        "name": "ipython",
        "version": 3
      },
      "file_extension": ".py",
      "mimetype": "text/x-python",
      "name": "python",
      "nbconvert_exporter": "python",
      "pygments_lexer": "ipython3",
      "version": "3.9.12"
    },
    "orig_nbformat": 4,
    "vscode": {
      "interpreter": {
        "hash": "14c1950ab298b0ef205c136a83651298232aebd7783b98499e5b7799d9511181"
      }
    }
  },
  "nbformat": 4,
  "nbformat_minor": 0
}
