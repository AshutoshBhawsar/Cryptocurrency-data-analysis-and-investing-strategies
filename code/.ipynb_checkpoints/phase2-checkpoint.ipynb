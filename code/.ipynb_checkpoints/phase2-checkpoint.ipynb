{
 "cells": [
  {
   "cell_type": "markdown",
   "metadata": {},
   "source": [
    "# DIC Phase 2\n",
    "## Prof. Eric Mikida\n",
    "### Yashika Nihalani, 50425015\n",
    "### Ashutosh Shailesh Bhawsar, 50416025"
   ]
  },
  {
   "cell_type": "code",
   "execution_count": 1,
   "metadata": {},
   "outputs": [],
   "source": [
    "import pandas as pd\n",
    "import numpy as np\n",
    "\n",
    "import time\n",
    "\n",
    "import matplotlib\n",
    "import matplotlib.pyplot as plt\n",
    "\n",
    "from datetime import datetime\n",
    "\n"
   ]
  },
  {
   "cell_type": "code",
   "execution_count": 2,
   "metadata": {},
   "outputs": [
    {
     "data": {
      "text/html": [
       "<div>\n",
       "<style scoped>\n",
       "    .dataframe tbody tr th:only-of-type {\n",
       "        vertical-align: middle;\n",
       "    }\n",
       "\n",
       "    .dataframe tbody tr th {\n",
       "        vertical-align: top;\n",
       "    }\n",
       "\n",
       "    .dataframe thead th {\n",
       "        text-align: right;\n",
       "    }\n",
       "</style>\n",
       "<table border=\"1\" class=\"dataframe\">\n",
       "  <thead>\n",
       "    <tr style=\"text-align: right;\">\n",
       "      <th></th>\n",
       "      <th>Open</th>\n",
       "      <th>Close</th>\n",
       "      <th>High</th>\n",
       "      <th>Low</th>\n",
       "      <th>Volume_BTC</th>\n",
       "      <th>Volume_Currency</th>\n",
       "      <th>Weighted_Price</th>\n",
       "      <th>Change_percentage</th>\n",
       "      <th>SMA10</th>\n",
       "      <th>SMA20</th>\n",
       "      <th>SMA50</th>\n",
       "      <th>Trade_signal</th>\n",
       "    </tr>\n",
       "    <tr>\n",
       "      <th>Timestamp</th>\n",
       "      <th></th>\n",
       "      <th></th>\n",
       "      <th></th>\n",
       "      <th></th>\n",
       "      <th></th>\n",
       "      <th></th>\n",
       "      <th></th>\n",
       "      <th></th>\n",
       "      <th></th>\n",
       "      <th></th>\n",
       "      <th></th>\n",
       "      <th></th>\n",
       "    </tr>\n",
       "  </thead>\n",
       "  <tbody>\n",
       "    <tr>\n",
       "      <th>2011-12-31</th>\n",
       "      <td>4.39</td>\n",
       "      <td>4.58</td>\n",
       "      <td>4.58</td>\n",
       "      <td>4.39</td>\n",
       "      <td>23.83</td>\n",
       "      <td>106.33</td>\n",
       "      <td>4.47</td>\n",
       "      <td>NaN</td>\n",
       "      <td>NaN</td>\n",
       "      <td>NaN</td>\n",
       "      <td>NaN</td>\n",
       "      <td>0.0</td>\n",
       "    </tr>\n",
       "    <tr>\n",
       "      <th>2012-01-01</th>\n",
       "      <td>4.58</td>\n",
       "      <td>5.00</td>\n",
       "      <td>5.00</td>\n",
       "      <td>4.58</td>\n",
       "      <td>7.20</td>\n",
       "      <td>35.26</td>\n",
       "      <td>4.81</td>\n",
       "      <td>9.17</td>\n",
       "      <td>NaN</td>\n",
       "      <td>NaN</td>\n",
       "      <td>NaN</td>\n",
       "      <td>0.0</td>\n",
       "    </tr>\n",
       "    <tr>\n",
       "      <th>2012-01-02</th>\n",
       "      <td>5.00</td>\n",
       "      <td>5.00</td>\n",
       "      <td>5.00</td>\n",
       "      <td>5.00</td>\n",
       "      <td>19.05</td>\n",
       "      <td>95.24</td>\n",
       "      <td>5.00</td>\n",
       "      <td>0.00</td>\n",
       "      <td>NaN</td>\n",
       "      <td>NaN</td>\n",
       "      <td>NaN</td>\n",
       "      <td>0.0</td>\n",
       "    </tr>\n",
       "    <tr>\n",
       "      <th>2012-01-03</th>\n",
       "      <td>5.32</td>\n",
       "      <td>5.29</td>\n",
       "      <td>5.32</td>\n",
       "      <td>5.14</td>\n",
       "      <td>11.00</td>\n",
       "      <td>58.10</td>\n",
       "      <td>5.25</td>\n",
       "      <td>5.80</td>\n",
       "      <td>NaN</td>\n",
       "      <td>NaN</td>\n",
       "      <td>NaN</td>\n",
       "      <td>0.0</td>\n",
       "    </tr>\n",
       "    <tr>\n",
       "      <th>2012-01-04</th>\n",
       "      <td>4.93</td>\n",
       "      <td>5.57</td>\n",
       "      <td>5.57</td>\n",
       "      <td>4.93</td>\n",
       "      <td>11.91</td>\n",
       "      <td>63.12</td>\n",
       "      <td>5.21</td>\n",
       "      <td>5.29</td>\n",
       "      <td>NaN</td>\n",
       "      <td>NaN</td>\n",
       "      <td>NaN</td>\n",
       "      <td>0.0</td>\n",
       "    </tr>\n",
       "    <tr>\n",
       "      <th>...</th>\n",
       "      <td>...</td>\n",
       "      <td>...</td>\n",
       "      <td>...</td>\n",
       "      <td>...</td>\n",
       "      <td>...</td>\n",
       "      <td>...</td>\n",
       "      <td>...</td>\n",
       "      <td>...</td>\n",
       "      <td>...</td>\n",
       "      <td>...</td>\n",
       "      <td>...</td>\n",
       "      <td>...</td>\n",
       "    </tr>\n",
       "    <tr>\n",
       "      <th>2021-03-27</th>\n",
       "      <td>55081.26</td>\n",
       "      <td>55839.42</td>\n",
       "      <td>56686.15</td>\n",
       "      <td>53948.35</td>\n",
       "      <td>1.82</td>\n",
       "      <td>100884.73</td>\n",
       "      <td>55193.36</td>\n",
       "      <td>1.38</td>\n",
       "      <td>55420.714</td>\n",
       "      <td>56204.7735</td>\n",
       "      <td>51692.5584</td>\n",
       "      <td>1.0</td>\n",
       "    </tr>\n",
       "    <tr>\n",
       "      <th>2021-03-28</th>\n",
       "      <td>55817.85</td>\n",
       "      <td>55790.92</td>\n",
       "      <td>56573.04</td>\n",
       "      <td>54677.51</td>\n",
       "      <td>1.45</td>\n",
       "      <td>80632.12</td>\n",
       "      <td>55832.96</td>\n",
       "      <td>-0.09</td>\n",
       "      <td>55235.001</td>\n",
       "      <td>56372.9295</td>\n",
       "      <td>52022.7348</td>\n",
       "      <td>1.0</td>\n",
       "    </tr>\n",
       "    <tr>\n",
       "      <th>2021-03-29</th>\n",
       "      <td>55790.28</td>\n",
       "      <td>57600.10</td>\n",
       "      <td>58402.68</td>\n",
       "      <td>54892.42</td>\n",
       "      <td>3.73</td>\n",
       "      <td>213754.56</td>\n",
       "      <td>56913.99</td>\n",
       "      <td>3.24</td>\n",
       "      <td>55187.811</td>\n",
       "      <td>56506.4835</td>\n",
       "      <td>52397.5690</td>\n",
       "      <td>1.0</td>\n",
       "    </tr>\n",
       "    <tr>\n",
       "      <th>2021-03-30</th>\n",
       "      <td>57623.66</td>\n",
       "      <td>58760.59</td>\n",
       "      <td>59388.66</td>\n",
       "      <td>57011.00</td>\n",
       "      <td>2.36</td>\n",
       "      <td>138231.24</td>\n",
       "      <td>58346.91</td>\n",
       "      <td>2.01</td>\n",
       "      <td>55250.031</td>\n",
       "      <td>56651.8985</td>\n",
       "      <td>52644.4518</td>\n",
       "      <td>1.0</td>\n",
       "    </tr>\n",
       "    <tr>\n",
       "      <th>2021-03-31</th>\n",
       "      <td>58767.75</td>\n",
       "      <td>58778.18</td>\n",
       "      <td>58778.18</td>\n",
       "      <td>58755.97</td>\n",
       "      <td>2.71</td>\n",
       "      <td>159417.75</td>\n",
       "      <td>58764.35</td>\n",
       "      <td>0.03</td>\n",
       "      <td>55389.670</td>\n",
       "      <td>56702.2030</td>\n",
       "      <td>52889.9114</td>\n",
       "      <td>1.0</td>\n",
       "    </tr>\n",
       "  </tbody>\n",
       "</table>\n",
       "<p>3379 rows × 12 columns</p>\n",
       "</div>"
      ],
      "text/plain": [
       "                Open     Close      High       Low  Volume_BTC  \\\n",
       "Timestamp                                                        \n",
       "2011-12-31      4.39      4.58      4.58      4.39       23.83   \n",
       "2012-01-01      4.58      5.00      5.00      4.58        7.20   \n",
       "2012-01-02      5.00      5.00      5.00      5.00       19.05   \n",
       "2012-01-03      5.32      5.29      5.32      5.14       11.00   \n",
       "2012-01-04      4.93      5.57      5.57      4.93       11.91   \n",
       "...              ...       ...       ...       ...         ...   \n",
       "2021-03-27  55081.26  55839.42  56686.15  53948.35        1.82   \n",
       "2021-03-28  55817.85  55790.92  56573.04  54677.51        1.45   \n",
       "2021-03-29  55790.28  57600.10  58402.68  54892.42        3.73   \n",
       "2021-03-30  57623.66  58760.59  59388.66  57011.00        2.36   \n",
       "2021-03-31  58767.75  58778.18  58778.18  58755.97        2.71   \n",
       "\n",
       "            Volume_Currency  Weighted_Price  Change_percentage      SMA10  \\\n",
       "Timestamp                                                                   \n",
       "2011-12-31           106.33            4.47                NaN        NaN   \n",
       "2012-01-01            35.26            4.81               9.17        NaN   \n",
       "2012-01-02            95.24            5.00               0.00        NaN   \n",
       "2012-01-03            58.10            5.25               5.80        NaN   \n",
       "2012-01-04            63.12            5.21               5.29        NaN   \n",
       "...                     ...             ...                ...        ...   \n",
       "2021-03-27        100884.73        55193.36               1.38  55420.714   \n",
       "2021-03-28         80632.12        55832.96              -0.09  55235.001   \n",
       "2021-03-29        213754.56        56913.99               3.24  55187.811   \n",
       "2021-03-30        138231.24        58346.91               2.01  55250.031   \n",
       "2021-03-31        159417.75        58764.35               0.03  55389.670   \n",
       "\n",
       "                 SMA20       SMA50  Trade_signal  \n",
       "Timestamp                                         \n",
       "2011-12-31         NaN         NaN           0.0  \n",
       "2012-01-01         NaN         NaN           0.0  \n",
       "2012-01-02         NaN         NaN           0.0  \n",
       "2012-01-03         NaN         NaN           0.0  \n",
       "2012-01-04         NaN         NaN           0.0  \n",
       "...                ...         ...           ...  \n",
       "2021-03-27  56204.7735  51692.5584           1.0  \n",
       "2021-03-28  56372.9295  52022.7348           1.0  \n",
       "2021-03-29  56506.4835  52397.5690           1.0  \n",
       "2021-03-30  56651.8985  52644.4518           1.0  \n",
       "2021-03-31  56702.2030  52889.9114           1.0  \n",
       "\n",
       "[3379 rows x 12 columns]"
      ]
     },
     "execution_count": 2,
     "metadata": {},
     "output_type": "execute_result"
    }
   ],
   "source": [
    "btc_data = pd.read_csv('../data/bitcoin_daily_data_cleaned.csv', index_col='Timestamp')\n",
    "\n",
    "btc_data"
   ]
  },
  {
   "cell_type": "code",
   "execution_count": 3,
   "metadata": {},
   "outputs": [
    {
     "data": {
      "text/plain": [
       "<AxesSubplot:xlabel='Timestamp'>"
      ]
     },
     "execution_count": 3,
     "metadata": {},
     "output_type": "execute_result"
    },
    {
     "data": {
      "image/png": "[encoded data removed]",
      "text/plain": [
       "<Figure size 1296x720 with 1 Axes>"
      ]
     },
     "metadata": {
      "needs_background": "light"
     },
     "output_type": "display_data"
    }
   ],
   "source": [
    "btc_data['Weighted_Price'].plot(figsize = (18, 10), grid = True)"
   ]
  },
  {
   "cell_type": "markdown",
   "metadata": {},
   "source": [
    "# **Algorithms and their Visualizations**"
   ]
  },
  {
   "cell_type": "markdown",
   "metadata": {},
   "source": [
    "##### **1) Linear Regression**"
   ]
  },
  {
   "cell_type": "markdown",
   "metadata": {},
   "source": [
    "##### **2) KNN Classifier**"
   ]
  },
  {
   "cell_type": "markdown",
   "metadata": {},
   "source": [
    "##### **3) Random Forest Regressor**"
   ]
  },
  {
   "cell_type": "markdown",
   "metadata": {},
   "source": [
    "##### **4) Long Short Term Memory (LSTM)**"
   ]
  },
  {
   "cell_type": "code",
   "execution_count": null,
   "metadata": {},
   "outputs": [],
   "source": [
    "from keras.models import Sequential\n",
    "from keras.layers import Dense\n",
    "from keras.layers import LSTM"
   ]
  },
  {
   "cell_type": "code",
   "execution_count": null,
   "metadata": {},
   "outputs": [
    {
     "ename": "NameError",
     "evalue": "name 'MinMaxScaler' is not defined",
     "output_type": "error",
     "traceback": [
      "\u001b[0;31m---------------------------------------------------------------------------\u001b[0m",
      "\u001b[0;31mNameError\u001b[0m                                 Traceback (most recent call last)",
      "\u001b[1;32m/Users/ashutoshbhawsar/Documents/Fall 2022 Courses/DIC/DIC project/Cryptocurrency-data-analysis-and-investing-strategies/code/phase2.ipynb Cell 11\u001b[0m in \u001b[0;36m<cell line: 8>\u001b[0;34m()\u001b[0m\n\u001b[1;32m      <a href='vscode-notebook-cell:/Users/ashutoshbhawsar/Documents/Fall%202022%20Courses/DIC/DIC%20project/Cryptocurrency-data-analysis-and-investing-strategies/code/phase2.ipynb#X21sZmlsZQ%3D%3D?line=3'>4</a>\u001b[0m training_data \u001b[39m=\u001b[39m btc_weighted_data[:splitting_index]\u001b[39m.\u001b[39mvalues\u001b[39m.\u001b[39mreshape(\u001b[39m-\u001b[39m\u001b[39m1\u001b[39m, \u001b[39m1\u001b[39m)\n\u001b[1;32m      <a href='vscode-notebook-cell:/Users/ashutoshbhawsar/Documents/Fall%202022%20Courses/DIC/DIC%20project/Cryptocurrency-data-analysis-and-investing-strategies/code/phase2.ipynb#X21sZmlsZQ%3D%3D?line=4'>5</a>\u001b[0m testing_data \u001b[39m=\u001b[39m btc_weighted_data[splitting_index:]\u001b[39m.\u001b[39mvalues\u001b[39m.\u001b[39mreshape(\u001b[39m-\u001b[39m\u001b[39m1\u001b[39m, \u001b[39m1\u001b[39m)\n\u001b[0;32m----> <a href='vscode-notebook-cell:/Users/ashutoshbhawsar/Documents/Fall%202022%20Courses/DIC/DIC%20project/Cryptocurrency-data-analysis-and-investing-strategies/code/phase2.ipynb#X21sZmlsZQ%3D%3D?line=7'>8</a>\u001b[0m scaler \u001b[39m=\u001b[39m MinMaxScaler(feature_range\u001b[39m=\u001b[39m(\u001b[39m0\u001b[39m, \u001b[39m1\u001b[39m))\n\u001b[1;32m      <a href='vscode-notebook-cell:/Users/ashutoshbhawsar/Documents/Fall%202022%20Courses/DIC/DIC%20project/Cryptocurrency-data-analysis-and-investing-strategies/code/phase2.ipynb#X21sZmlsZQ%3D%3D?line=8'>9</a>\u001b[0m train_set_scaled \u001b[39m=\u001b[39m scaler\u001b[39m.\u001b[39mfit_transform(training_data)\n\u001b[1;32m     <a href='vscode-notebook-cell:/Users/ashutoshbhawsar/Documents/Fall%202022%20Courses/DIC/DIC%20project/Cryptocurrency-data-analysis-and-investing-strategies/code/phase2.ipynb#X21sZmlsZQ%3D%3D?line=9'>10</a>\u001b[0m test_set_scaled \u001b[39m=\u001b[39m scaler\u001b[39m.\u001b[39mfit_transform(testing_data)\n",
      "\u001b[0;31mNameError\u001b[0m: name 'MinMaxScaler' is not defined"
     ]
    }
   ],
   "source": [
    "btc_weighted_data = btc_data['Weighted_Price']\n",
    "splitting_index = int(0.7*len(btc_weighted_data))\n",
    "# x = y = btc_data.values\n",
    "training_data = btc_weighted_data[:splitting_index].values\n",
    "training_data = np.reshape(training_data, (len(training_data), 1))\n",
    "testing_data = btc_weighted_data[splitting_index:].values\n",
    "\n",
    "\n",
    "\n",
    "scaler = MinMaxScaler()\n",
    "training_set = scaler.fit_transform(training_data)\n",
    "X_train = training_set[:len(training_set)-1]\n",
    "y_train = training_set[1:len(training_set)]\n",
    "X_train = np.reshape(X_train, (len(X_train), 1, 1))\n",
    "\n",
    "X_train.shape\n",
    "\n"
   ]
  },
  {
   "cell_type": "markdown",
   "metadata": {},
   "source": [
    "##### **5) Transformers**"
   ]
  },
  {
   "cell_type": "code",
   "execution_count": null,
   "metadata": {},
   "outputs": [],
   "source": []
  },
  {
   "cell_type": "code",
   "execution_count": null,
   "metadata": {},
   "outputs": [],
   "source": []
  },
  {
   "cell_type": "code",
   "execution_count": null,
   "metadata": {},
   "outputs": [],
   "source": []
  }
 ],
 "metadata": {
  "kernelspec": {
   "display_name": "Python 3 (ipykernel)",
   "language": "python",
   "name": "python3"
  },
  "language_info": {
   "codemirror_mode": {
    "name": "ipython",
    "version": 3
   },
   "file_extension": ".py",
   "mimetype": "text/x-python",
   "name": "python",
   "nbconvert_exporter": "python",
   "pygments_lexer": "ipython3",
   "version": "3.9.12"
  },
  "vscode": {
   "interpreter": {
    "hash": "14c1950ab298b0ef205c136a83651298232aebd7783b98499e5b7799d9511181"
   }
  }
 },
 "nbformat": 4,
 "nbformat_minor": 2
}
